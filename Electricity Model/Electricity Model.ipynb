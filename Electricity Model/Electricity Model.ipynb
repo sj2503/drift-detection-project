{
 "cells": [
  {
   "cell_type": "markdown",
   "metadata": {},
   "source": [
    "### Importing all required libraries -"
   ]
  },
  {
   "cell_type": "code",
   "execution_count": 9,
   "metadata": {},
   "outputs": [],
   "source": [
    "import pandas as pd  \n",
    "import numpy as np  \n",
    "import matplotlib.pyplot as plt  \n",
    "import seaborn as seabornInstance \n",
    "from sklearn.model_selection import train_test_split \n",
    "from sklearn.ensemble import RandomForestClassifier\n",
    "from sklearn import metrics\n",
    "from evidently.dashboard import Dashboard\n",
    "from evidently.tabs import ClassificationPerformanceTab"
   ]
  },
  {
   "cell_type": "markdown",
   "metadata": {},
   "source": [
    "### Loading the data -"
   ]
  },
  {
   "cell_type": "code",
   "execution_count": 10,
   "metadata": {},
   "outputs": [
    {
     "name": "stdout",
     "output_type": "stream",
     "text": [
      "   date  day    period  nswprice  nswdemand  vicprice  vicdemand  transfer  \\\n",
      "0   0.0    2  0.000000  0.056443   0.439155  0.003467   0.422915  0.414912   \n",
      "1   0.0    2  0.021277  0.051699   0.415055  0.003467   0.422915  0.414912   \n",
      "2   0.0    2  0.042553  0.051489   0.385004  0.003467   0.422915  0.414912   \n",
      "3   0.0    2  0.063830  0.045485   0.314639  0.003467   0.422915  0.414912   \n",
      "4   0.0    2  0.085106  0.042482   0.251116  0.003467   0.422915  0.414912   \n",
      "\n",
      "   class  \n",
      "0      1  \n",
      "1      1  \n",
      "2      1  \n",
      "3      1  \n",
      "4      0  \n"
     ]
    }
   ],
   "source": [
    "dataset = pd.read_csv(\"elec_data.csv\")\n",
    "dataset = dataset.drop(columns=[\"id\"])\n",
    "print(dataset.head())"
   ]
  },
  {
   "cell_type": "markdown",
   "metadata": {},
   "source": [
    "### Feature Engineering and Splitting the Data for the First Model - "
   ]
  },
  {
   "cell_type": "code",
   "execution_count": 11,
   "metadata": {},
   "outputs": [],
   "source": [
    "X_first = dataset.drop(columns=[\"class\"])\n",
    "y_first = dataset[\"class\"]\n",
    "numerical_columns = X_first.columns\n",
    "X_train_first = X_first.loc[:4799,:]\n",
    "X_test_first = X_first.loc[17520:22319,:]\n",
    "y_train_first = y_first[:4800]\n",
    "y_test_first = y_first[17520:22320]"
   ]
  },
  {
   "cell_type": "markdown",
   "metadata": {},
   "source": [
    "### Building the First Model -"
   ]
  },
  {
   "cell_type": "code",
   "execution_count": 12,
   "metadata": {},
   "outputs": [
    {
     "data": {
      "text/plain": [
       "RandomForestClassifier(max_depth=3, n_estimators=50)"
      ]
     },
     "execution_count": 12,
     "metadata": {},
     "output_type": "execute_result"
    }
   ],
   "source": [
    "model_first = RandomForestClassifier(n_estimators=50, max_depth=3)\n",
    "model_first.fit(X_train_first,y_train_first)"
   ]
  },
  {
   "cell_type": "markdown",
   "metadata": {},
   "source": [
    "### Accuracy of Testing Data in First Model - "
   ]
  },
  {
   "cell_type": "code",
   "execution_count": 13,
   "metadata": {},
   "outputs": [
    {
     "name": "stdout",
     "output_type": "stream",
     "text": [
      "0.740625\n"
     ]
    }
   ],
   "source": [
    "y_pred_first = model_first.predict(X_test_first)\n",
    "accuracy_first = metrics.accuracy_score(y_test_first, y_pred_first)\n",
    "print(accuracy_first)"
   ]
  },
  {
   "cell_type": "markdown",
   "metadata": {},
   "source": [
    "### Feature Engineering and Splitting the Data for the Second Model - "
   ]
  },
  {
   "cell_type": "code",
   "execution_count": 14,
   "metadata": {},
   "outputs": [],
   "source": [
    "X_second = dataset.drop(columns=[\"class\"])\n",
    "y_second = dataset[\"class\"]\n",
    "X_train_second_first = X_second.loc[:4799,:]\n",
    "X_train_second_second = X_second.loc[17520:22319,:]\n",
    "X_train_second = pd.concat([X_train_second_first,X_train_second_second])\n",
    "X_test_second = X_second.loc[27455:32999,:]\n",
    "y_train_second_first = y_second[:4800]\n",
    "y_train_second_second = y_second[17520:22320]\n",
    "y_train_second = pd.concat([y_train_second_first,y_train_second_second])\n",
    "y_test_second = y_second[27455:33000]"
   ]
  },
  {
   "cell_type": "markdown",
   "metadata": {},
   "source": [
    "### Building the Second Model -"
   ]
  },
  {
   "cell_type": "code",
   "execution_count": 15,
   "metadata": {},
   "outputs": [
    {
     "data": {
      "text/plain": [
       "RandomForestClassifier(max_depth=3, n_estimators=50)"
      ]
     },
     "execution_count": 15,
     "metadata": {},
     "output_type": "execute_result"
    }
   ],
   "source": [
    "model_second = RandomForestClassifier(n_estimators=50, max_depth=3)\n",
    "model_second.fit(X_train_second,y_train_second)"
   ]
  },
  {
   "cell_type": "markdown",
   "metadata": {},
   "source": [
    "### Accuracy of Testing Data in Second Model - "
   ]
  },
  {
   "cell_type": "code",
   "execution_count": 16,
   "metadata": {},
   "outputs": [
    {
     "name": "stdout",
     "output_type": "stream",
     "text": [
      "0.6277727682596934\n"
     ]
    }
   ],
   "source": [
    "y_pred_second = model_second.predict(X_test_second)\n",
    "accuracy_second = metrics.accuracy_score(y_test_second, y_pred_second)\n",
    "print(accuracy_second)"
   ]
  },
  {
   "cell_type": "markdown",
   "metadata": {},
   "source": [
    "### Concept Drift Report Generation - "
   ]
  },
  {
   "cell_type": "code",
   "execution_count": 17,
   "metadata": {},
   "outputs": [],
   "source": [
    "reference = X_test_first.copy()\n",
    "reference[\"target\"] = y_test_first\n",
    "reference[\"prediction\"] = y_pred_first\n",
    "production = X_test_second.copy()\n",
    "production[\"target\"] = y_test_second\n",
    "production[\"prediction\"] = y_pred_second\n",
    "elec_column_mapping = {}\n",
    "elec_column_mapping[\"target\"] = \"target\"\n",
    "elec_column_mapping[\"prediction\"] = \"prediction\"\n",
    "elec_column_mapping[\"numerical_features\"] = numerical_columns\n",
    "elec_model_performance = Dashboard(tabs=[ClassificationPerformanceTab])\n",
    "elec_model_performance.calculate(reference, production, column_mapping = elec_column_mapping)\n",
    "elec_model_performance.save(\"elec_classification_performance.html\")"
   ]
  },
  {
   "cell_type": "code",
   "execution_count": null,
   "metadata": {},
   "outputs": [],
   "source": []
  }
 ],
 "metadata": {
  "kernelspec": {
   "display_name": "Python 3",
   "language": "python",
   "name": "python3"
  },
  "language_info": {
   "codemirror_mode": {
    "name": "ipython",
    "version": 3
   },
   "file_extension": ".py",
   "mimetype": "text/x-python",
   "name": "python",
   "nbconvert_exporter": "python",
   "pygments_lexer": "ipython3",
   "version": "3.8.3"
  }
 },
 "nbformat": 4,
 "nbformat_minor": 4
}
